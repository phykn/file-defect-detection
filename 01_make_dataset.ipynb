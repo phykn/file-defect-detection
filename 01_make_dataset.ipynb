{
 "cells": [
  {
   "cell_type": "markdown",
   "id": "1b3c0b8b-3c46-4c9c-9ad8-c8f208c3e36b",
   "metadata": {},
   "source": [
    "### Python import"
   ]
  },
  {
   "cell_type": "code",
   "execution_count": null,
   "id": "56efeb43-45e0-4491-bcca-e7ea556e5277",
   "metadata": {},
   "outputs": [],
   "source": [
    "import cv2\n",
    "import numpy as np\n",
    "import pandas as pd\n",
    "import matplotlib.pyplot as plt\n",
    "from module.image import canny, get_boundary_points\n",
    "from module.label_map import get_label_map\n",
    "from module.config import config_from_yaml\n",
    "from tqdm import tqdm\n",
    "tqdm.pandas()\n",
    "\n",
    "from ISR.models import RDN\n",
    "rdn = RDN(weights='noise-cancel')"
   ]
  },
  {
   "cell_type": "markdown",
   "id": "223e2c9a-49a3-4422-8e31-835d30e1e0df",
   "metadata": {},
   "source": [
    "### Initialize"
   ]
  },
  {
   "cell_type": "code",
   "execution_count": null,
   "id": "90386666-6a54-46dc-ab54-afabd1a453a7",
   "metadata": {},
   "outputs": [],
   "source": [
    "CFG = config_from_yaml('config.yaml')"
   ]
  },
  {
   "cell_type": "markdown",
   "id": "7cce7dd3-a1e2-4a46-b2e8-f07007037912",
   "metadata": {},
   "source": [
    "### Make train.csv"
   ]
  },
  {
   "cell_type": "code",
   "execution_count": null,
   "id": "bafd8244-d05d-498b-aeb3-7aebe8230480",
   "metadata": {},
   "outputs": [],
   "source": [
    "def apply_boundary_points(path, x_center, y_center, width, height, label):\n",
    "    if label == 'Pass':\n",
    "        return ''\n",
    "    else:\n",
    "        img = cv2.imread(path)\n",
    "        img = rdn.predict(img)\n",
    "        img = cv2.resize(img, dsize=(100, 100), interpolation=cv2.INTER_AREA)\n",
    "        img = cv2.cvtColor(img, cv2.COLOR_BGR2GRAY)\n",
    "        img_size = img.shape[0]\n",
    "\n",
    "        x1   = np.clip(x_center - width  / 2, 0, img_size)\n",
    "        y1   = np.clip(y_center - height / 2, 0, img_size)\n",
    "        x2   = np.clip(x_center + width  / 2, 0, img_size)\n",
    "        y2   = np.clip(y_center + height / 2, 0, img_size)\n",
    "        bbox = [x1, y1, x2, y2]\n",
    "\n",
    "        margin = 4\n",
    "        box_mask_x1 = np.clip(int(np.round(x1)-margin),   0, 100)\n",
    "        box_mask_x2 = np.clip(int(np.round(x2)+margin)+1, 0, 100)\n",
    "        box_mask_y1 = np.clip(int(np.round(y1)-margin),   0, 100)\n",
    "        box_mask_y2 = np.clip(int(np.round(y2)+margin)+1, 0, 100)\n",
    "\n",
    "        box_mask = np.zeros((img_size, img_size)).astype(np.uint8)\n",
    "        box_mask[box_mask_y1:box_mask_y2, box_mask_x1:box_mask_x2] = 1\n",
    "\n",
    "        mask = canny(img)\n",
    "        mask = mask * box_mask\n",
    "        \n",
    "        if label == 'Bright':\n",
    "            boundary_points = get_boundary_points(mask, bbox, return_bbox=True)\n",
    "        else:\n",
    "            boundary_points = get_boundary_points(mask, bbox, return_bbox=False)\n",
    "            \n",
    "        boundary_points = [str(item) for item in boundary_points]\n",
    "        boundary_points = ' '.join(boundary_points)\n",
    "        return boundary_points"
   ]
  },
  {
   "cell_type": "code",
   "execution_count": null,
   "id": "e1766beb-d5e3-4a62-8ba8-689ccd71eca3",
   "metadata": {},
   "outputs": [],
   "source": [
    "df                    = pd.read_csv(CFG.DATA.TRAIN_DATA_PATH)\n",
    "group                 = df.groupby('img_name')\n",
    "img_names             = np.sort(df['img_name'].unique())\n",
    "error_images          = pd.read_csv('error.csv')['error_id'].values\n",
    "df                    = pd.concat([group.get_group(img_name) for img_name in img_names if img_name not in error_images]).reset_index(drop=True)\n",
    "df['label']           = df['defect'].apply(lambda x: get_label_map()[x])\n",
    "df['path']            = '../data/train/' + df['label'] + '/' + df['img_name']\n",
    "df['boundary_points'] = df.progress_apply(lambda x: apply_boundary_points(x['path'], x['x_center'], x['y_center'], x['width'], x['height'], x['label']), axis=1)\n",
    "df.to_csv(CFG.DATA.TRAIN_FILE, index=False, encoding='utf-8-sig')"
   ]
  }
 ],
 "metadata": {
  "kernelspec": {
   "display_name": "Python 3 (ipykernel)",
   "language": "python",
   "name": "python3"
  },
  "language_info": {
   "codemirror_mode": {
    "name": "ipython",
    "version": 3
   },
   "file_extension": ".py",
   "mimetype": "text/x-python",
   "name": "python",
   "nbconvert_exporter": "python",
   "pygments_lexer": "ipython3",
   "version": "3.7.9"
  }
 },
 "nbformat": 4,
 "nbformat_minor": 5
}
