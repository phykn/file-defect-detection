{
 "cells": [
  {
   "cell_type": "code",
   "execution_count": null,
   "id": "2022e4e8-e929-40d0-b673-e8d6554fe027",
   "metadata": {},
   "outputs": [],
   "source": [
    "!nvcc --version"
   ]
  },
  {
   "cell_type": "code",
   "execution_count": null,
   "id": "b558b81f-c9ce-44b0-a768-6b41dfe64bac",
   "metadata": {},
   "outputs": [],
   "source": [
    "!pip install torch==1.7.1+cu101 torchvision==0.8.2+cu101 torchaudio==0.7.2 -f https://download.pytorch.org/whl/torch_stable.html\n",
    "!pip install opencv-python\n",
    "!pip install opencv-contrib-python\n",
    "!pip install tqdm\n",
    "!pip install ensemble-boxes\n",
    "!pip install mean-average-precision\n",
    "!pip install bayesian-optimization\n",
    "!pip install pycocotools\n",
    "!pip install albumentations\n",
    "!pip install Shapely\n",
    "!pip install timm\n",
    "!pip install isr --no-deps\n",
    "!pip install adabelief-pytorch==0.2.0"
   ]
  }
 ],
 "metadata": {
  "kernelspec": {
   "display_name": "Python 3 (ipykernel)",
   "language": "python",
   "name": "python3"
  },
  "language_info": {
   "codemirror_mode": {
    "name": "ipython",
    "version": 3
   },
   "file_extension": ".py",
   "mimetype": "text/x-python",
   "name": "python",
   "nbconvert_exporter": "python",
   "pygments_lexer": "ipython3",
   "version": "3.7.9"
  }
 },
 "nbformat": 4,
 "nbformat_minor": 5
}
